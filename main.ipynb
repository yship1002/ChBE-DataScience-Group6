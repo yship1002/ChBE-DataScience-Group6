{
 "cells": [
  {
   "cell_type": "code",
   "execution_count": 1,
   "id": "7bcadbc3",
   "metadata": {},
   "outputs": [
    {
     "name": "stdout",
     "output_type": "stream",
     "text": [
      "F1 score per class: {'acc': np.float64(0.782051282051282), 'good': np.float64(0.56), 'unacc': np.float64(0.9608247422680413), 'vgood': np.float64(0.8461538461538461)}\n",
      "Overall (macro) F1 score: 0.7872574676182924\n"
     ]
    },
    {
     "name": "stderr",
     "output_type": "stream",
     "text": [
      "/Users/jyang872/anaconda3/envs/ChBE-project/lib/python3.13/site-packages/sklearn/linear_model/_logistic.py:1272: FutureWarning: 'multi_class' was deprecated in version 1.5 and will be removed in 1.7. From then on, it will always use 'multinomial'. Leave it to its default value to avoid this warning.\n",
      "  warnings.warn(\n"
     ]
    }
   ],
   "source": [
    "import pandas as pd\n",
    "from sklearn.linear_model import LogisticRegression\n",
    "from sklearn.model_selection import train_test_split\n",
    "from sklearn.metrics import f1_score\n",
    "\n",
    "df = pd.read_csv('car.data', header=None)\n",
    "# Rename columns according to attribute names\n",
    "df.columns = ['buying', 'maint', 'doors', 'persons', 'lug_boot', 'safety', 'class']\n",
    "\n",
    "# One-hot encode categorical features (excluding the target 'class')\n",
    "df_encoded = pd.get_dummies(df, columns=['buying', 'maint', 'doors', 'persons', 'lug_boot', 'safety'])\n",
    "\n",
    "# Display the first few rows of the encoded DataFrame\n",
    "df_encoded.head()\n",
    "\n",
    "# Prepare features and target\n",
    "X = df_encoded.drop('class', axis=1)\n",
    "y = df_encoded['class']\n",
    "\n",
    "# Split into train and test sets\n",
    "X_train, X_test, y_train, y_test = train_test_split(X, y, test_size=0.2, random_state=42, stratify=y)\n",
    "\n",
    "# Fit logistic regression model\n",
    "model = LogisticRegression(max_iter=1000, multi_class='multinomial', solver='lbfgs')\n",
    "model.fit(X_train, y_train)\n",
    "\n",
    "# Predict and evaluate\n",
    "y_pred = model.predict(X_test)\n",
    "# F1 score for each category\n",
    "f1_per_class = f1_score(y_test, y_pred, average=None, labels=model.classes_)\n",
    "print(\"F1 score per class:\", dict(zip(model.classes_, f1_per_class)))\n",
    "\n",
    "# Overall (macro) F1 score\n",
    "f1_macro = f1_score(y_test, y_pred, average='macro')\n",
    "print(\"Overall (macro) F1 score:\", f1_macro)\n"
   ]
  }
 ],
 "metadata": {
  "kernelspec": {
   "display_name": "ChBE-project",
   "language": "python",
   "name": "python3"
  },
  "language_info": {
   "codemirror_mode": {
    "name": "ipython",
    "version": 3
   },
   "file_extension": ".py",
   "mimetype": "text/x-python",
   "name": "python",
   "nbconvert_exporter": "python",
   "pygments_lexer": "ipython3",
   "version": "3.13.7"
  }
 },
 "nbformat": 4,
 "nbformat_minor": 5
}
